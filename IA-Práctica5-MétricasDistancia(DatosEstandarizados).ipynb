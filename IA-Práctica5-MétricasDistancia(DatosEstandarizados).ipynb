{
 "cells": [
  {
   "cell_type": "markdown",
   "metadata": {
    "id": "pnYOY0aH5jGf"
   },
   "source": [
    "# **Práctica 5: Métricas de distancia (datos estandarizados)**\n",
    "\n",
    "Nombre: Fernando Medina Segura\n",
    "\n",
    "Número de cuenta: 317174948\n",
    "\n",
    "Email: fernando.med.seg@gmail.com"
   ]
  },
  {
   "cell_type": "markdown",
   "metadata": {
    "id": "b05A7-qViDDz"
   },
   "source": [
    "**Objetivo.** Obtener las matrices de distancia (Euclidiana, Chebyshev, Manhattan, Minkowski) a partir de una matriz de datos.\n",
    "\n",
    "\n",
    "**Fuente de datos:**\n",
    "\n",
    "Los datos analizados fueron proporcionados por el profesor y son del “Winsconsin Diagnostic Breast Cancer” o “Diagnóstico de Cáncer de Mama en Winsconsin”, en los datos tenemos originalmente un total de 12 variables o características distintas, las cuáles son las siguientes:\n",
    "\n",
    "* IDNumber: Identificador numérico del paciente.\n",
    "* Diagnóstico: M si es maligno, B si es benigno.\n",
    "* Radio\n",
    "* Textura\n",
    "* Perímetro\n",
    "* Área\n",
    "* Suavidad\n",
    "* Compacidad o Compactación\n",
    "* Convavidad \n",
    "* Puntos Concavos\n",
    "* Simetría\n",
    "* Dimensión Fractal\n",
    "\n",
    "Se tiene un total de 569 datos.\n",
    "\n",
    "La fuente de datos es \"WDBCOriginal.csv\""
   ]
  },
  {
   "cell_type": "markdown",
   "metadata": {
    "id": "OhmPOcypjfUv"
   },
   "source": [
    "#### **1) Importar las bibliotecas necesarias**\n"
   ]
  },
  {
   "cell_type": "code",
   "execution_count": 1,
   "metadata": {
    "id": "N6zYyzEQQG36"
   },
   "outputs": [],
   "source": [
    "import pandas as pd                         # Para la manipulación y análisis de datos\n",
    "import numpy as np                          # Para crear vectores y matrices n dimensionales\n",
    "import matplotlib.pyplot as plt             # Para generar gráficas a partir de los datos\n",
    "from scipy.spatial.distance import cdist    # Para el cálculo de distancias\n",
    "from scipy.spatial import distance\n",
    "import seaborn as sns"
   ]
  },
  {
   "cell_type": "markdown",
   "metadata": {
    "id": "uuGs6szll3vf"
   },
   "source": [
    "#### **2) Importar los datos**"
   ]
  },
  {
   "cell_type": "code",
   "execution_count": 2,
   "metadata": {
    "colab": {
     "base_uri": "https://localhost:8080/",
     "height": 444
    },
    "executionInfo": {
     "elapsed": 108,
     "status": "ok",
     "timestamp": 1633310413441,
     "user": {
      "displayName": "Guillermo Molero-Castillo",
      "photoUrl": "https://lh3.googleusercontent.com/a/default-user=s64",
      "userId": "05385957137518665248"
     },
     "user_tz": 300
    },
    "id": "Kdq7I0JVQvEB",
    "outputId": "18b849d2-7157-4a52-a3da-69b24703cb2e"
   },
   "outputs": [
    {
     "data": {
      "text/html": [
       "<div>\n",
       "<style scoped>\n",
       "    .dataframe tbody tr th:only-of-type {\n",
       "        vertical-align: middle;\n",
       "    }\n",
       "\n",
       "    .dataframe tbody tr th {\n",
       "        vertical-align: top;\n",
       "    }\n",
       "\n",
       "    .dataframe thead th {\n",
       "        text-align: right;\n",
       "    }\n",
       "</style>\n",
       "<table border=\"1\" class=\"dataframe\">\n",
       "  <thead>\n",
       "    <tr style=\"text-align: right;\">\n",
       "      <th></th>\n",
       "      <th>IDNumber</th>\n",
       "      <th>Diagnosis</th>\n",
       "      <th>Radius</th>\n",
       "      <th>Texture</th>\n",
       "      <th>Perimeter</th>\n",
       "      <th>Area</th>\n",
       "      <th>Smoothness</th>\n",
       "      <th>Compactness</th>\n",
       "      <th>Concavity</th>\n",
       "      <th>ConcavePoints</th>\n",
       "      <th>Symmetry</th>\n",
       "      <th>FractalDimension</th>\n",
       "    </tr>\n",
       "  </thead>\n",
       "  <tbody>\n",
       "    <tr>\n",
       "      <th>0</th>\n",
       "      <td>P-842302</td>\n",
       "      <td>M</td>\n",
       "      <td>17.99</td>\n",
       "      <td>10.38</td>\n",
       "      <td>122.80</td>\n",
       "      <td>1001.0</td>\n",
       "      <td>0.11840</td>\n",
       "      <td>0.27760</td>\n",
       "      <td>0.30010</td>\n",
       "      <td>0.14710</td>\n",
       "      <td>0.2419</td>\n",
       "      <td>0.07871</td>\n",
       "    </tr>\n",
       "    <tr>\n",
       "      <th>1</th>\n",
       "      <td>P-842517</td>\n",
       "      <td>M</td>\n",
       "      <td>20.57</td>\n",
       "      <td>17.77</td>\n",
       "      <td>132.90</td>\n",
       "      <td>1326.0</td>\n",
       "      <td>0.08474</td>\n",
       "      <td>0.07864</td>\n",
       "      <td>0.08690</td>\n",
       "      <td>0.07017</td>\n",
       "      <td>0.1812</td>\n",
       "      <td>0.05667</td>\n",
       "    </tr>\n",
       "    <tr>\n",
       "      <th>2</th>\n",
       "      <td>P-84300903</td>\n",
       "      <td>M</td>\n",
       "      <td>19.69</td>\n",
       "      <td>21.25</td>\n",
       "      <td>130.00</td>\n",
       "      <td>1203.0</td>\n",
       "      <td>0.10960</td>\n",
       "      <td>0.15990</td>\n",
       "      <td>0.19740</td>\n",
       "      <td>0.12790</td>\n",
       "      <td>0.2069</td>\n",
       "      <td>0.05999</td>\n",
       "    </tr>\n",
       "    <tr>\n",
       "      <th>3</th>\n",
       "      <td>P-84348301</td>\n",
       "      <td>M</td>\n",
       "      <td>11.42</td>\n",
       "      <td>20.38</td>\n",
       "      <td>77.58</td>\n",
       "      <td>386.1</td>\n",
       "      <td>0.14250</td>\n",
       "      <td>0.28390</td>\n",
       "      <td>0.24140</td>\n",
       "      <td>0.10520</td>\n",
       "      <td>0.2597</td>\n",
       "      <td>0.09744</td>\n",
       "    </tr>\n",
       "    <tr>\n",
       "      <th>4</th>\n",
       "      <td>P-84358402</td>\n",
       "      <td>M</td>\n",
       "      <td>20.29</td>\n",
       "      <td>14.34</td>\n",
       "      <td>135.10</td>\n",
       "      <td>1297.0</td>\n",
       "      <td>0.10030</td>\n",
       "      <td>0.13280</td>\n",
       "      <td>0.19800</td>\n",
       "      <td>0.10430</td>\n",
       "      <td>0.1809</td>\n",
       "      <td>0.05883</td>\n",
       "    </tr>\n",
       "    <tr>\n",
       "      <th>...</th>\n",
       "      <td>...</td>\n",
       "      <td>...</td>\n",
       "      <td>...</td>\n",
       "      <td>...</td>\n",
       "      <td>...</td>\n",
       "      <td>...</td>\n",
       "      <td>...</td>\n",
       "      <td>...</td>\n",
       "      <td>...</td>\n",
       "      <td>...</td>\n",
       "      <td>...</td>\n",
       "      <td>...</td>\n",
       "    </tr>\n",
       "    <tr>\n",
       "      <th>564</th>\n",
       "      <td>P-926424</td>\n",
       "      <td>M</td>\n",
       "      <td>21.56</td>\n",
       "      <td>22.39</td>\n",
       "      <td>142.00</td>\n",
       "      <td>1479.0</td>\n",
       "      <td>0.11100</td>\n",
       "      <td>0.11590</td>\n",
       "      <td>0.24390</td>\n",
       "      <td>0.13890</td>\n",
       "      <td>0.1726</td>\n",
       "      <td>0.05623</td>\n",
       "    </tr>\n",
       "    <tr>\n",
       "      <th>565</th>\n",
       "      <td>P-926682</td>\n",
       "      <td>M</td>\n",
       "      <td>20.13</td>\n",
       "      <td>28.25</td>\n",
       "      <td>131.20</td>\n",
       "      <td>1261.0</td>\n",
       "      <td>0.09780</td>\n",
       "      <td>0.10340</td>\n",
       "      <td>0.14400</td>\n",
       "      <td>0.09791</td>\n",
       "      <td>0.1752</td>\n",
       "      <td>0.05533</td>\n",
       "    </tr>\n",
       "    <tr>\n",
       "      <th>566</th>\n",
       "      <td>P-926954</td>\n",
       "      <td>M</td>\n",
       "      <td>16.60</td>\n",
       "      <td>28.08</td>\n",
       "      <td>108.30</td>\n",
       "      <td>858.1</td>\n",
       "      <td>0.08455</td>\n",
       "      <td>0.10230</td>\n",
       "      <td>0.09251</td>\n",
       "      <td>0.05302</td>\n",
       "      <td>0.1590</td>\n",
       "      <td>0.05648</td>\n",
       "    </tr>\n",
       "    <tr>\n",
       "      <th>567</th>\n",
       "      <td>P-927241</td>\n",
       "      <td>M</td>\n",
       "      <td>20.60</td>\n",
       "      <td>29.33</td>\n",
       "      <td>140.10</td>\n",
       "      <td>1265.0</td>\n",
       "      <td>0.11780</td>\n",
       "      <td>0.27700</td>\n",
       "      <td>0.35140</td>\n",
       "      <td>0.15200</td>\n",
       "      <td>0.2397</td>\n",
       "      <td>0.07016</td>\n",
       "    </tr>\n",
       "    <tr>\n",
       "      <th>568</th>\n",
       "      <td>P-92751</td>\n",
       "      <td>B</td>\n",
       "      <td>7.76</td>\n",
       "      <td>24.54</td>\n",
       "      <td>47.92</td>\n",
       "      <td>181.0</td>\n",
       "      <td>0.05263</td>\n",
       "      <td>0.04362</td>\n",
       "      <td>0.00000</td>\n",
       "      <td>0.00000</td>\n",
       "      <td>0.1587</td>\n",
       "      <td>0.05884</td>\n",
       "    </tr>\n",
       "  </tbody>\n",
       "</table>\n",
       "<p>569 rows × 12 columns</p>\n",
       "</div>"
      ],
      "text/plain": [
       "       IDNumber Diagnosis  Radius  Texture  Perimeter    Area  Smoothness  \\\n",
       "0      P-842302         M   17.99    10.38     122.80  1001.0     0.11840   \n",
       "1      P-842517         M   20.57    17.77     132.90  1326.0     0.08474   \n",
       "2    P-84300903         M   19.69    21.25     130.00  1203.0     0.10960   \n",
       "3    P-84348301         M   11.42    20.38      77.58   386.1     0.14250   \n",
       "4    P-84358402         M   20.29    14.34     135.10  1297.0     0.10030   \n",
       "..          ...       ...     ...      ...        ...     ...         ...   \n",
       "564    P-926424         M   21.56    22.39     142.00  1479.0     0.11100   \n",
       "565    P-926682         M   20.13    28.25     131.20  1261.0     0.09780   \n",
       "566    P-926954         M   16.60    28.08     108.30   858.1     0.08455   \n",
       "567    P-927241         M   20.60    29.33     140.10  1265.0     0.11780   \n",
       "568     P-92751         B    7.76    24.54      47.92   181.0     0.05263   \n",
       "\n",
       "     Compactness  Concavity  ConcavePoints  Symmetry  FractalDimension  \n",
       "0        0.27760    0.30010        0.14710    0.2419           0.07871  \n",
       "1        0.07864    0.08690        0.07017    0.1812           0.05667  \n",
       "2        0.15990    0.19740        0.12790    0.2069           0.05999  \n",
       "3        0.28390    0.24140        0.10520    0.2597           0.09744  \n",
       "4        0.13280    0.19800        0.10430    0.1809           0.05883  \n",
       "..           ...        ...            ...       ...               ...  \n",
       "564      0.11590    0.24390        0.13890    0.1726           0.05623  \n",
       "565      0.10340    0.14400        0.09791    0.1752           0.05533  \n",
       "566      0.10230    0.09251        0.05302    0.1590           0.05648  \n",
       "567      0.27700    0.35140        0.15200    0.2397           0.07016  \n",
       "568      0.04362    0.00000        0.00000    0.1587           0.05884  \n",
       "\n",
       "[569 rows x 12 columns]"
      ]
     },
     "execution_count": 2,
     "metadata": {},
     "output_type": "execute_result"
    }
   ],
   "source": [
    "DatosCancer = pd.read_csv(\"WDBCOriginal.csv\")\n",
    "DatosCancer"
   ]
  },
  {
   "cell_type": "code",
   "execution_count": 3,
   "metadata": {
    "colab": {
     "base_uri": "https://localhost:8080/"
    },
    "executionInfo": {
     "elapsed": 138,
     "status": "ok",
     "timestamp": 1633310420472,
     "user": {
      "displayName": "Guillermo Molero-Castillo",
      "photoUrl": "https://lh3.googleusercontent.com/a/default-user=s64",
      "userId": "05385957137518665248"
     },
     "user_tz": 300
    },
    "id": "rXSmHDzwrRjd",
    "outputId": "0b7272d0-6282-4bc0-b408-d5d090874e09"
   },
   "outputs": [
    {
     "name": "stdout",
     "output_type": "stream",
     "text": [
      "<class 'pandas.core.frame.DataFrame'>\n",
      "RangeIndex: 569 entries, 0 to 568\n",
      "Data columns (total 12 columns):\n",
      " #   Column            Non-Null Count  Dtype  \n",
      "---  ------            --------------  -----  \n",
      " 0   IDNumber          569 non-null    object \n",
      " 1   Diagnosis         569 non-null    object \n",
      " 2   Radius            569 non-null    float64\n",
      " 3   Texture           569 non-null    float64\n",
      " 4   Perimeter         569 non-null    float64\n",
      " 5   Area              569 non-null    float64\n",
      " 6   Smoothness        569 non-null    float64\n",
      " 7   Compactness       569 non-null    float64\n",
      " 8   Concavity         569 non-null    float64\n",
      " 9   ConcavePoints     569 non-null    float64\n",
      " 10  Symmetry          569 non-null    float64\n",
      " 11  FractalDimension  569 non-null    float64\n",
      "dtypes: float64(10), object(2)\n",
      "memory usage: 53.5+ KB\n"
     ]
    }
   ],
   "source": [
    "DatosCancer.info()"
   ]
  },
  {
   "cell_type": "markdown",
   "metadata": {},
   "source": [
    "#### **3) Selección de características**\n",
    "\n",
    "Antes de calcular las matrices de distancias, primero debemos reducir la dimensionalidad eliminando algunas características dependiendo de su coeficiente de correlación.\n",
    "\n",
    "**Tipos de datos**\n",
    "\n",
    "El atributo **dtypes** muestra los tipos de datos de variables.\n",
    "Se observa que el conjunto de datos tiene una combinación de variables categóricas (objeto) y numéricas (flotante)"
   ]
  },
  {
   "cell_type": "code",
   "execution_count": 4,
   "metadata": {},
   "outputs": [
    {
     "data": {
      "text/plain": [
       "IDNumber             object\n",
       "Diagnosis            object\n",
       "Radius              float64\n",
       "Texture             float64\n",
       "Perimeter           float64\n",
       "Area                float64\n",
       "Smoothness          float64\n",
       "Compactness         float64\n",
       "Concavity           float64\n",
       "ConcavePoints       float64\n",
       "Symmetry            float64\n",
       "FractalDimension    float64\n",
       "dtype: object"
      ]
     },
     "execution_count": 4,
     "metadata": {},
     "output_type": "execute_result"
    }
   ],
   "source": [
    "DatosCancer.dtypes"
   ]
  },
  {
   "cell_type": "markdown",
   "metadata": {},
   "source": [
    "**Identificación de datos faltantes**\n",
    "\n",
    "Una función útil de pandas es **isnull().sum()** que regresa la suma de todos los valores nulos en cada variable"
   ]
  },
  {
   "cell_type": "code",
   "execution_count": 5,
   "metadata": {},
   "outputs": [
    {
     "data": {
      "text/plain": [
       "IDNumber            0\n",
       "Diagnosis           0\n",
       "Radius              0\n",
       "Texture             0\n",
       "Perimeter           0\n",
       "Area                0\n",
       "Smoothness          0\n",
       "Compactness         0\n",
       "Concavity           0\n",
       "ConcavePoints       0\n",
       "Symmetry            0\n",
       "FractalDimension    0\n",
       "dtype: int64"
      ]
     },
     "execution_count": 5,
     "metadata": {},
     "output_type": "execute_result"
    }
   ],
   "source": [
    "DatosCancer.isnull().sum()"
   ]
  },
  {
   "cell_type": "markdown",
   "metadata": {},
   "source": [
    "**Identificación de relaciones entre variables**"
   ]
  },
  {
   "cell_type": "code",
   "execution_count": 6,
   "metadata": {},
   "outputs": [
    {
     "data": {
      "text/html": [
       "<div>\n",
       "<style scoped>\n",
       "    .dataframe tbody tr th:only-of-type {\n",
       "        vertical-align: middle;\n",
       "    }\n",
       "\n",
       "    .dataframe tbody tr th {\n",
       "        vertical-align: top;\n",
       "    }\n",
       "\n",
       "    .dataframe thead th {\n",
       "        text-align: right;\n",
       "    }\n",
       "</style>\n",
       "<table border=\"1\" class=\"dataframe\">\n",
       "  <thead>\n",
       "    <tr style=\"text-align: right;\">\n",
       "      <th></th>\n",
       "      <th>Radius</th>\n",
       "      <th>Texture</th>\n",
       "      <th>Perimeter</th>\n",
       "      <th>Area</th>\n",
       "      <th>Smoothness</th>\n",
       "      <th>Compactness</th>\n",
       "      <th>Concavity</th>\n",
       "      <th>ConcavePoints</th>\n",
       "      <th>Symmetry</th>\n",
       "      <th>FractalDimension</th>\n",
       "    </tr>\n",
       "  </thead>\n",
       "  <tbody>\n",
       "    <tr>\n",
       "      <th>Radius</th>\n",
       "      <td>1.000000</td>\n",
       "      <td>0.323782</td>\n",
       "      <td>0.997855</td>\n",
       "      <td>0.987357</td>\n",
       "      <td>0.170581</td>\n",
       "      <td>0.506124</td>\n",
       "      <td>0.676764</td>\n",
       "      <td>0.822529</td>\n",
       "      <td>0.147741</td>\n",
       "      <td>-0.311631</td>\n",
       "    </tr>\n",
       "    <tr>\n",
       "      <th>Texture</th>\n",
       "      <td>0.323782</td>\n",
       "      <td>1.000000</td>\n",
       "      <td>0.329533</td>\n",
       "      <td>0.321086</td>\n",
       "      <td>-0.023389</td>\n",
       "      <td>0.236702</td>\n",
       "      <td>0.302418</td>\n",
       "      <td>0.293464</td>\n",
       "      <td>0.071401</td>\n",
       "      <td>-0.076437</td>\n",
       "    </tr>\n",
       "    <tr>\n",
       "      <th>Perimeter</th>\n",
       "      <td>0.997855</td>\n",
       "      <td>0.329533</td>\n",
       "      <td>1.000000</td>\n",
       "      <td>0.986507</td>\n",
       "      <td>0.207278</td>\n",
       "      <td>0.556936</td>\n",
       "      <td>0.716136</td>\n",
       "      <td>0.850977</td>\n",
       "      <td>0.183027</td>\n",
       "      <td>-0.261477</td>\n",
       "    </tr>\n",
       "    <tr>\n",
       "      <th>Area</th>\n",
       "      <td>0.987357</td>\n",
       "      <td>0.321086</td>\n",
       "      <td>0.986507</td>\n",
       "      <td>1.000000</td>\n",
       "      <td>0.177028</td>\n",
       "      <td>0.498502</td>\n",
       "      <td>0.685983</td>\n",
       "      <td>0.823269</td>\n",
       "      <td>0.151293</td>\n",
       "      <td>-0.283110</td>\n",
       "    </tr>\n",
       "    <tr>\n",
       "      <th>Smoothness</th>\n",
       "      <td>0.170581</td>\n",
       "      <td>-0.023389</td>\n",
       "      <td>0.207278</td>\n",
       "      <td>0.177028</td>\n",
       "      <td>1.000000</td>\n",
       "      <td>0.659123</td>\n",
       "      <td>0.521984</td>\n",
       "      <td>0.553695</td>\n",
       "      <td>0.557775</td>\n",
       "      <td>0.584792</td>\n",
       "    </tr>\n",
       "    <tr>\n",
       "      <th>Compactness</th>\n",
       "      <td>0.506124</td>\n",
       "      <td>0.236702</td>\n",
       "      <td>0.556936</td>\n",
       "      <td>0.498502</td>\n",
       "      <td>0.659123</td>\n",
       "      <td>1.000000</td>\n",
       "      <td>0.883121</td>\n",
       "      <td>0.831135</td>\n",
       "      <td>0.602641</td>\n",
       "      <td>0.565369</td>\n",
       "    </tr>\n",
       "    <tr>\n",
       "      <th>Concavity</th>\n",
       "      <td>0.676764</td>\n",
       "      <td>0.302418</td>\n",
       "      <td>0.716136</td>\n",
       "      <td>0.685983</td>\n",
       "      <td>0.521984</td>\n",
       "      <td>0.883121</td>\n",
       "      <td>1.000000</td>\n",
       "      <td>0.921391</td>\n",
       "      <td>0.500667</td>\n",
       "      <td>0.336783</td>\n",
       "    </tr>\n",
       "    <tr>\n",
       "      <th>ConcavePoints</th>\n",
       "      <td>0.822529</td>\n",
       "      <td>0.293464</td>\n",
       "      <td>0.850977</td>\n",
       "      <td>0.823269</td>\n",
       "      <td>0.553695</td>\n",
       "      <td>0.831135</td>\n",
       "      <td>0.921391</td>\n",
       "      <td>1.000000</td>\n",
       "      <td>0.462497</td>\n",
       "      <td>0.166917</td>\n",
       "    </tr>\n",
       "    <tr>\n",
       "      <th>Symmetry</th>\n",
       "      <td>0.147741</td>\n",
       "      <td>0.071401</td>\n",
       "      <td>0.183027</td>\n",
       "      <td>0.151293</td>\n",
       "      <td>0.557775</td>\n",
       "      <td>0.602641</td>\n",
       "      <td>0.500667</td>\n",
       "      <td>0.462497</td>\n",
       "      <td>1.000000</td>\n",
       "      <td>0.479921</td>\n",
       "    </tr>\n",
       "    <tr>\n",
       "      <th>FractalDimension</th>\n",
       "      <td>-0.311631</td>\n",
       "      <td>-0.076437</td>\n",
       "      <td>-0.261477</td>\n",
       "      <td>-0.283110</td>\n",
       "      <td>0.584792</td>\n",
       "      <td>0.565369</td>\n",
       "      <td>0.336783</td>\n",
       "      <td>0.166917</td>\n",
       "      <td>0.479921</td>\n",
       "      <td>1.000000</td>\n",
       "    </tr>\n",
       "  </tbody>\n",
       "</table>\n",
       "</div>"
      ],
      "text/plain": [
       "                    Radius   Texture  Perimeter      Area  Smoothness  \\\n",
       "Radius            1.000000  0.323782   0.997855  0.987357    0.170581   \n",
       "Texture           0.323782  1.000000   0.329533  0.321086   -0.023389   \n",
       "Perimeter         0.997855  0.329533   1.000000  0.986507    0.207278   \n",
       "Area              0.987357  0.321086   0.986507  1.000000    0.177028   \n",
       "Smoothness        0.170581 -0.023389   0.207278  0.177028    1.000000   \n",
       "Compactness       0.506124  0.236702   0.556936  0.498502    0.659123   \n",
       "Concavity         0.676764  0.302418   0.716136  0.685983    0.521984   \n",
       "ConcavePoints     0.822529  0.293464   0.850977  0.823269    0.553695   \n",
       "Symmetry          0.147741  0.071401   0.183027  0.151293    0.557775   \n",
       "FractalDimension -0.311631 -0.076437  -0.261477 -0.283110    0.584792   \n",
       "\n",
       "                  Compactness  Concavity  ConcavePoints  Symmetry  \\\n",
       "Radius               0.506124   0.676764       0.822529  0.147741   \n",
       "Texture              0.236702   0.302418       0.293464  0.071401   \n",
       "Perimeter            0.556936   0.716136       0.850977  0.183027   \n",
       "Area                 0.498502   0.685983       0.823269  0.151293   \n",
       "Smoothness           0.659123   0.521984       0.553695  0.557775   \n",
       "Compactness          1.000000   0.883121       0.831135  0.602641   \n",
       "Concavity            0.883121   1.000000       0.921391  0.500667   \n",
       "ConcavePoints        0.831135   0.921391       1.000000  0.462497   \n",
       "Symmetry             0.602641   0.500667       0.462497  1.000000   \n",
       "FractalDimension     0.565369   0.336783       0.166917  0.479921   \n",
       "\n",
       "                  FractalDimension  \n",
       "Radius                   -0.311631  \n",
       "Texture                  -0.076437  \n",
       "Perimeter                -0.261477  \n",
       "Area                     -0.283110  \n",
       "Smoothness                0.584792  \n",
       "Compactness               0.565369  \n",
       "Concavity                 0.336783  \n",
       "ConcavePoints             0.166917  \n",
       "Symmetry                  0.479921  \n",
       "FractalDimension          1.000000  "
      ]
     },
     "execution_count": 6,
     "metadata": {},
     "output_type": "execute_result"
    }
   ],
   "source": [
    "DatosCancer.corr()"
   ]
  },
  {
   "cell_type": "code",
   "execution_count": 7,
   "metadata": {},
   "outputs": [
    {
     "data": {
      "text/plain": [
       "<function matplotlib.pyplot.show(close=None, block=None)>"
      ]
     },
     "execution_count": 7,
     "metadata": {},
     "output_type": "execute_result"
    },
    {
     "data": {
      "image/png": "[encoded data removed]",
      "text/plain": [
       "<Figure size 1008x504 with 2 Axes>"
      ]
     },
     "metadata": {
      "needs_background": "light"
     },
     "output_type": "display_data"
    }
   ],
   "source": [
    "plt.figure(figsize=(14,7))\n",
    "MatrizInf = np.triu(DatosCancer.corr())\n",
    "sns.heatmap(DatosCancer.corr(), cmap='RdBu_r', annot=True, mask=MatrizInf)\n",
    "plt.show"
   ]
  },
  {
   "cell_type": "markdown",
   "metadata": {},
   "source": [
    "Se traza un mapa de colores a través de la biblioteca de Seaborn.\n",
    "\n",
    "La intensidad del color es proporcional a los valores de los coeficientes de correlación.\n",
    "\n",
    "De acuerdo al mapa, las características que presentan un mayor coeficiente de correlación son el Perímetro y el Área, esto tiene sentido, pues esos valores se calculan con el radio, y también perímetro y área estan fuertemente relacionados, por lo que esas características son las que se van a eliminar, también en menor medida pero aun con un alto coeficiente de correlación, las características de concavidad y puntos concavos tienen una correlación fuerte con otras características, por ejemplo, la concavidad tiene una correlación alta con el radio, el perímetro, el área y la compacidad, mientras que los puntos concavos presentan una correlación con el radio, el perímetro, el área, la compacidad y la concavidad, por lo que estas dos características también se deben de eliminar."
   ]
  },
  {
   "cell_type": "code",
   "execution_count": 8,
   "metadata": {},
   "outputs": [
    {
     "data": {
      "text/html": [
       "<div>\n",
       "<style scoped>\n",
       "    .dataframe tbody tr th:only-of-type {\n",
       "        vertical-align: middle;\n",
       "    }\n",
       "\n",
       "    .dataframe tbody tr th {\n",
       "        vertical-align: top;\n",
       "    }\n",
       "\n",
       "    .dataframe thead th {\n",
       "        text-align: right;\n",
       "    }\n",
       "</style>\n",
       "<table border=\"1\" class=\"dataframe\">\n",
       "  <thead>\n",
       "    <tr style=\"text-align: right;\">\n",
       "      <th></th>\n",
       "      <th>IDNumber</th>\n",
       "      <th>Diagnosis</th>\n",
       "      <th>Radius</th>\n",
       "      <th>Texture</th>\n",
       "      <th>Smoothness</th>\n",
       "      <th>Compactness</th>\n",
       "      <th>Symmetry</th>\n",
       "      <th>FractalDimension</th>\n",
       "    </tr>\n",
       "  </thead>\n",
       "  <tbody>\n",
       "    <tr>\n",
       "      <th>0</th>\n",
       "      <td>P-842302</td>\n",
       "      <td>M</td>\n",
       "      <td>17.99</td>\n",
       "      <td>10.38</td>\n",
       "      <td>0.11840</td>\n",
       "      <td>0.27760</td>\n",
       "      <td>0.2419</td>\n",
       "      <td>0.07871</td>\n",
       "    </tr>\n",
       "    <tr>\n",
       "      <th>1</th>\n",
       "      <td>P-842517</td>\n",
       "      <td>M</td>\n",
       "      <td>20.57</td>\n",
       "      <td>17.77</td>\n",
       "      <td>0.08474</td>\n",
       "      <td>0.07864</td>\n",
       "      <td>0.1812</td>\n",
       "      <td>0.05667</td>\n",
       "    </tr>\n",
       "    <tr>\n",
       "      <th>2</th>\n",
       "      <td>P-84300903</td>\n",
       "      <td>M</td>\n",
       "      <td>19.69</td>\n",
       "      <td>21.25</td>\n",
       "      <td>0.10960</td>\n",
       "      <td>0.15990</td>\n",
       "      <td>0.2069</td>\n",
       "      <td>0.05999</td>\n",
       "    </tr>\n",
       "    <tr>\n",
       "      <th>3</th>\n",
       "      <td>P-84348301</td>\n",
       "      <td>M</td>\n",
       "      <td>11.42</td>\n",
       "      <td>20.38</td>\n",
       "      <td>0.14250</td>\n",
       "      <td>0.28390</td>\n",
       "      <td>0.2597</td>\n",
       "      <td>0.09744</td>\n",
       "    </tr>\n",
       "    <tr>\n",
       "      <th>4</th>\n",
       "      <td>P-84358402</td>\n",
       "      <td>M</td>\n",
       "      <td>20.29</td>\n",
       "      <td>14.34</td>\n",
       "      <td>0.10030</td>\n",
       "      <td>0.13280</td>\n",
       "      <td>0.1809</td>\n",
       "      <td>0.05883</td>\n",
       "    </tr>\n",
       "    <tr>\n",
       "      <th>...</th>\n",
       "      <td>...</td>\n",
       "      <td>...</td>\n",
       "      <td>...</td>\n",
       "      <td>...</td>\n",
       "      <td>...</td>\n",
       "      <td>...</td>\n",
       "      <td>...</td>\n",
       "      <td>...</td>\n",
       "    </tr>\n",
       "    <tr>\n",
       "      <th>564</th>\n",
       "      <td>P-926424</td>\n",
       "      <td>M</td>\n",
       "      <td>21.56</td>\n",
       "      <td>22.39</td>\n",
       "      <td>0.11100</td>\n",
       "      <td>0.11590</td>\n",
       "      <td>0.1726</td>\n",
       "      <td>0.05623</td>\n",
       "    </tr>\n",
       "    <tr>\n",
       "      <th>565</th>\n",
       "      <td>P-926682</td>\n",
       "      <td>M</td>\n",
       "      <td>20.13</td>\n",
       "      <td>28.25</td>\n",
       "      <td>0.09780</td>\n",
       "      <td>0.10340</td>\n",
       "      <td>0.1752</td>\n",
       "      <td>0.05533</td>\n",
       "    </tr>\n",
       "    <tr>\n",
       "      <th>566</th>\n",
       "      <td>P-926954</td>\n",
       "      <td>M</td>\n",
       "      <td>16.60</td>\n",
       "      <td>28.08</td>\n",
       "      <td>0.08455</td>\n",
       "      <td>0.10230</td>\n",
       "      <td>0.1590</td>\n",
       "      <td>0.05648</td>\n",
       "    </tr>\n",
       "    <tr>\n",
       "      <th>567</th>\n",
       "      <td>P-927241</td>\n",
       "      <td>M</td>\n",
       "      <td>20.60</td>\n",
       "      <td>29.33</td>\n",
       "      <td>0.11780</td>\n",
       "      <td>0.27700</td>\n",
       "      <td>0.2397</td>\n",
       "      <td>0.07016</td>\n",
       "    </tr>\n",
       "    <tr>\n",
       "      <th>568</th>\n",
       "      <td>P-92751</td>\n",
       "      <td>B</td>\n",
       "      <td>7.76</td>\n",
       "      <td>24.54</td>\n",
       "      <td>0.05263</td>\n",
       "      <td>0.04362</td>\n",
       "      <td>0.1587</td>\n",
       "      <td>0.05884</td>\n",
       "    </tr>\n",
       "  </tbody>\n",
       "</table>\n",
       "<p>569 rows × 8 columns</p>\n",
       "</div>"
      ],
      "text/plain": [
       "       IDNumber Diagnosis  Radius  Texture  Smoothness  Compactness  Symmetry  \\\n",
       "0      P-842302         M   17.99    10.38     0.11840      0.27760    0.2419   \n",
       "1      P-842517         M   20.57    17.77     0.08474      0.07864    0.1812   \n",
       "2    P-84300903         M   19.69    21.25     0.10960      0.15990    0.2069   \n",
       "3    P-84348301         M   11.42    20.38     0.14250      0.28390    0.2597   \n",
       "4    P-84358402         M   20.29    14.34     0.10030      0.13280    0.1809   \n",
       "..          ...       ...     ...      ...         ...          ...       ...   \n",
       "564    P-926424         M   21.56    22.39     0.11100      0.11590    0.1726   \n",
       "565    P-926682         M   20.13    28.25     0.09780      0.10340    0.1752   \n",
       "566    P-926954         M   16.60    28.08     0.08455      0.10230    0.1590   \n",
       "567    P-927241         M   20.60    29.33     0.11780      0.27700    0.2397   \n",
       "568     P-92751         B    7.76    24.54     0.05263      0.04362    0.1587   \n",
       "\n",
       "     FractalDimension  \n",
       "0             0.07871  \n",
       "1             0.05667  \n",
       "2             0.05999  \n",
       "3             0.09744  \n",
       "4             0.05883  \n",
       "..                ...  \n",
       "564           0.05623  \n",
       "565           0.05533  \n",
       "566           0.05648  \n",
       "567           0.07016  \n",
       "568           0.05884  \n",
       "\n",
       "[569 rows x 8 columns]"
      ]
     },
     "execution_count": 8,
     "metadata": {},
     "output_type": "execute_result"
    }
   ],
   "source": [
    "DatosCancer = DatosCancer.drop(columns=['Perimeter','Area','Concavity','ConcavePoints'])\n",
    "DatosCancer"
   ]
  },
  {
   "cell_type": "markdown",
   "metadata": {},
   "source": [
    "Es importante también considerar que las características de Número de ID y Diagnóstico no son de tipo numérico, por lo que debemos de eliminarlos, porque en caso contario, no será posible calcular las matrices de distancia de los datos."
   ]
  },
  {
   "cell_type": "code",
   "execution_count": 9,
   "metadata": {},
   "outputs": [
    {
     "data": {
      "text/html": [
       "<div>\n",
       "<style scoped>\n",
       "    .dataframe tbody tr th:only-of-type {\n",
       "        vertical-align: middle;\n",
       "    }\n",
       "\n",
       "    .dataframe tbody tr th {\n",
       "        vertical-align: top;\n",
       "    }\n",
       "\n",
       "    .dataframe thead th {\n",
       "        text-align: right;\n",
       "    }\n",
       "</style>\n",
       "<table border=\"1\" class=\"dataframe\">\n",
       "  <thead>\n",
       "    <tr style=\"text-align: right;\">\n",
       "      <th></th>\n",
       "      <th>Radius</th>\n",
       "      <th>Texture</th>\n",
       "      <th>Smoothness</th>\n",
       "      <th>Compactness</th>\n",
       "      <th>Symmetry</th>\n",
       "      <th>FractalDimension</th>\n",
       "    </tr>\n",
       "  </thead>\n",
       "  <tbody>\n",
       "    <tr>\n",
       "      <th>0</th>\n",
       "      <td>17.99</td>\n",
       "      <td>10.38</td>\n",
       "      <td>0.11840</td>\n",
       "      <td>0.27760</td>\n",
       "      <td>0.2419</td>\n",
       "      <td>0.07871</td>\n",
       "    </tr>\n",
       "    <tr>\n",
       "      <th>1</th>\n",
       "      <td>20.57</td>\n",
       "      <td>17.77</td>\n",
       "      <td>0.08474</td>\n",
       "      <td>0.07864</td>\n",
       "      <td>0.1812</td>\n",
       "      <td>0.05667</td>\n",
       "    </tr>\n",
       "    <tr>\n",
       "      <th>2</th>\n",
       "      <td>19.69</td>\n",
       "      <td>21.25</td>\n",
       "      <td>0.10960</td>\n",
       "      <td>0.15990</td>\n",
       "      <td>0.2069</td>\n",
       "      <td>0.05999</td>\n",
       "    </tr>\n",
       "    <tr>\n",
       "      <th>3</th>\n",
       "      <td>11.42</td>\n",
       "      <td>20.38</td>\n",
       "      <td>0.14250</td>\n",
       "      <td>0.28390</td>\n",
       "      <td>0.2597</td>\n",
       "      <td>0.09744</td>\n",
       "    </tr>\n",
       "    <tr>\n",
       "      <th>4</th>\n",
       "      <td>20.29</td>\n",
       "      <td>14.34</td>\n",
       "      <td>0.10030</td>\n",
       "      <td>0.13280</td>\n",
       "      <td>0.1809</td>\n",
       "      <td>0.05883</td>\n",
       "    </tr>\n",
       "    <tr>\n",
       "      <th>...</th>\n",
       "      <td>...</td>\n",
       "      <td>...</td>\n",
       "      <td>...</td>\n",
       "      <td>...</td>\n",
       "      <td>...</td>\n",
       "      <td>...</td>\n",
       "    </tr>\n",
       "    <tr>\n",
       "      <th>564</th>\n",
       "      <td>21.56</td>\n",
       "      <td>22.39</td>\n",
       "      <td>0.11100</td>\n",
       "      <td>0.11590</td>\n",
       "      <td>0.1726</td>\n",
       "      <td>0.05623</td>\n",
       "    </tr>\n",
       "    <tr>\n",
       "      <th>565</th>\n",
       "      <td>20.13</td>\n",
       "      <td>28.25</td>\n",
       "      <td>0.09780</td>\n",
       "      <td>0.10340</td>\n",
       "      <td>0.1752</td>\n",
       "      <td>0.05533</td>\n",
       "    </tr>\n",
       "    <tr>\n",
       "      <th>566</th>\n",
       "      <td>16.60</td>\n",
       "      <td>28.08</td>\n",
       "      <td>0.08455</td>\n",
       "      <td>0.10230</td>\n",
       "      <td>0.1590</td>\n",
       "      <td>0.05648</td>\n",
       "    </tr>\n",
       "    <tr>\n",
       "      <th>567</th>\n",
       "      <td>20.60</td>\n",
       "      <td>29.33</td>\n",
       "      <td>0.11780</td>\n",
       "      <td>0.27700</td>\n",
       "      <td>0.2397</td>\n",
       "      <td>0.07016</td>\n",
       "    </tr>\n",
       "    <tr>\n",
       "      <th>568</th>\n",
       "      <td>7.76</td>\n",
       "      <td>24.54</td>\n",
       "      <td>0.05263</td>\n",
       "      <td>0.04362</td>\n",
       "      <td>0.1587</td>\n",
       "      <td>0.05884</td>\n",
       "    </tr>\n",
       "  </tbody>\n",
       "</table>\n",
       "<p>569 rows × 6 columns</p>\n",
       "</div>"
      ],
      "text/plain": [
       "     Radius  Texture  Smoothness  Compactness  Symmetry  FractalDimension\n",
       "0     17.99    10.38     0.11840      0.27760    0.2419           0.07871\n",
       "1     20.57    17.77     0.08474      0.07864    0.1812           0.05667\n",
       "2     19.69    21.25     0.10960      0.15990    0.2069           0.05999\n",
       "3     11.42    20.38     0.14250      0.28390    0.2597           0.09744\n",
       "4     20.29    14.34     0.10030      0.13280    0.1809           0.05883\n",
       "..      ...      ...         ...          ...       ...               ...\n",
       "564   21.56    22.39     0.11100      0.11590    0.1726           0.05623\n",
       "565   20.13    28.25     0.09780      0.10340    0.1752           0.05533\n",
       "566   16.60    28.08     0.08455      0.10230    0.1590           0.05648\n",
       "567   20.60    29.33     0.11780      0.27700    0.2397           0.07016\n",
       "568    7.76    24.54     0.05263      0.04362    0.1587           0.05884\n",
       "\n",
       "[569 rows x 6 columns]"
      ]
     },
     "execution_count": 9,
     "metadata": {},
     "output_type": "execute_result"
    }
   ],
   "source": [
    "DatosCancer = DatosCancer.drop(columns=['IDNumber','Diagnosis'])\n",
    "DatosCancer"
   ]
  },
  {
   "cell_type": "code",
   "execution_count": 30,
   "metadata": {},
   "outputs": [
    {
     "data": {
      "text/html": [
       "<div>\n",
       "<style scoped>\n",
       "    .dataframe tbody tr th:only-of-type {\n",
       "        vertical-align: middle;\n",
       "    }\n",
       "\n",
       "    .dataframe tbody tr th {\n",
       "        vertical-align: top;\n",
       "    }\n",
       "\n",
       "    .dataframe thead th {\n",
       "        text-align: right;\n",
       "    }\n",
       "</style>\n",
       "<table border=\"1\" class=\"dataframe\">\n",
       "  <thead>\n",
       "    <tr style=\"text-align: right;\">\n",
       "      <th></th>\n",
       "      <th>Radius</th>\n",
       "      <th>Texture</th>\n",
       "      <th>Smoothness</th>\n",
       "      <th>Compactness</th>\n",
       "      <th>Symmetry</th>\n",
       "      <th>FractalDimension</th>\n",
       "    </tr>\n",
       "  </thead>\n",
       "  <tbody>\n",
       "    <tr>\n",
       "      <th>Radius</th>\n",
       "      <td>1.000000</td>\n",
       "      <td>0.323782</td>\n",
       "      <td>0.170581</td>\n",
       "      <td>0.506124</td>\n",
       "      <td>0.147741</td>\n",
       "      <td>-0.311631</td>\n",
       "    </tr>\n",
       "    <tr>\n",
       "      <th>Texture</th>\n",
       "      <td>0.323782</td>\n",
       "      <td>1.000000</td>\n",
       "      <td>-0.023389</td>\n",
       "      <td>0.236702</td>\n",
       "      <td>0.071401</td>\n",
       "      <td>-0.076437</td>\n",
       "    </tr>\n",
       "    <tr>\n",
       "      <th>Smoothness</th>\n",
       "      <td>0.170581</td>\n",
       "      <td>-0.023389</td>\n",
       "      <td>1.000000</td>\n",
       "      <td>0.659123</td>\n",
       "      <td>0.557775</td>\n",
       "      <td>0.584792</td>\n",
       "    </tr>\n",
       "    <tr>\n",
       "      <th>Compactness</th>\n",
       "      <td>0.506124</td>\n",
       "      <td>0.236702</td>\n",
       "      <td>0.659123</td>\n",
       "      <td>1.000000</td>\n",
       "      <td>0.602641</td>\n",
       "      <td>0.565369</td>\n",
       "    </tr>\n",
       "    <tr>\n",
       "      <th>Symmetry</th>\n",
       "      <td>0.147741</td>\n",
       "      <td>0.071401</td>\n",
       "      <td>0.557775</td>\n",
       "      <td>0.602641</td>\n",
       "      <td>1.000000</td>\n",
       "      <td>0.479921</td>\n",
       "    </tr>\n",
       "    <tr>\n",
       "      <th>FractalDimension</th>\n",
       "      <td>-0.311631</td>\n",
       "      <td>-0.076437</td>\n",
       "      <td>0.584792</td>\n",
       "      <td>0.565369</td>\n",
       "      <td>0.479921</td>\n",
       "      <td>1.000000</td>\n",
       "    </tr>\n",
       "  </tbody>\n",
       "</table>\n",
       "</div>"
      ],
      "text/plain": [
       "                    Radius   Texture  Smoothness  Compactness  Symmetry  \\\n",
       "Radius            1.000000  0.323782    0.170581     0.506124  0.147741   \n",
       "Texture           0.323782  1.000000   -0.023389     0.236702  0.071401   \n",
       "Smoothness        0.170581 -0.023389    1.000000     0.659123  0.557775   \n",
       "Compactness       0.506124  0.236702    0.659123     1.000000  0.602641   \n",
       "Symmetry          0.147741  0.071401    0.557775     0.602641  1.000000   \n",
       "FractalDimension -0.311631 -0.076437    0.584792     0.565369  0.479921   \n",
       "\n",
       "                  FractalDimension  \n",
       "Radius                   -0.311631  \n",
       "Texture                  -0.076437  \n",
       "Smoothness                0.584792  \n",
       "Compactness               0.565369  \n",
       "Symmetry                  0.479921  \n",
       "FractalDimension          1.000000  "
      ]
     },
     "execution_count": 30,
     "metadata": {},
     "output_type": "execute_result"
    }
   ],
   "source": [
    "DatosCancer.corr()"
   ]
  },
  {
   "cell_type": "code",
   "execution_count": 29,
   "metadata": {},
   "outputs": [
    {
     "data": {
      "text/plain": [
       "<function matplotlib.pyplot.show(close=None, block=None)>"
      ]
     },
     "execution_count": 29,
     "metadata": {},
     "output_type": "execute_result"
    },
    {
     "data": {
      "image/png": "[encoded data removed]",
      "text/plain": [
       "<Figure size 1008x504 with 2 Axes>"
      ]
     },
     "metadata": {
      "needs_background": "light"
     },
     "output_type": "display_data"
    }
   ],
   "source": [
    "plt.figure(figsize=(14,7))\n",
    "MatrizInf = np.triu(DatosCancer.corr())\n",
    "sns.heatmap(DatosCancer.corr(), cmap='RdBu_r', annot=True, mask=MatrizInf)\n",
    "plt.show"
   ]
  },
  {
   "cell_type": "markdown",
   "metadata": {
    "id": "CzJj--8CriU5"
   },
   "source": [
    "**Estandarización de datos**\n",
    "\n",
    "En los algoritmos basados en distancias es fundamental escalar o normalizar los datos para que cada una de las variables contribuyan por igual en el análisis."
   ]
  },
  {
   "cell_type": "code",
   "execution_count": 10,
   "metadata": {
    "id": "UAA9sqj6r3xG"
   },
   "outputs": [],
   "source": [
    "from sklearn.preprocessing import StandardScaler, MinMaxScaler  \n",
    "estandarizar = StandardScaler()                    # Se instancia el objeto StandardScaler o MinMaxScaler \n",
    "MEstandarizada = estandarizar.fit_transform(DatosCancer) # Se calculan la media y desviación y se escalan los datos"
   ]
  },
  {
   "cell_type": "code",
   "execution_count": 11,
   "metadata": {
    "colab": {
     "base_uri": "https://localhost:8080/",
     "height": 424
    },
    "executionInfo": {
     "elapsed": 230,
     "status": "ok",
     "timestamp": 1633307604719,
     "user": {
      "displayName": "Guillermo Molero-Castillo",
      "photoUrl": "https://lh3.googleusercontent.com/a/default-user=s64",
      "userId": "05385957137518665248"
     },
     "user_tz": 300
    },
    "id": "5q-FQcZssZJE",
    "outputId": "d7538f26-d196-4876-fbc7-97481c2a1b7b"
   },
   "outputs": [
    {
     "data": {
      "text/html": [
       "<div>\n",
       "<style scoped>\n",
       "    .dataframe tbody tr th:only-of-type {\n",
       "        vertical-align: middle;\n",
       "    }\n",
       "\n",
       "    .dataframe tbody tr th {\n",
       "        vertical-align: top;\n",
       "    }\n",
       "\n",
       "    .dataframe thead th {\n",
       "        text-align: right;\n",
       "    }\n",
       "</style>\n",
       "<table border=\"1\" class=\"dataframe\">\n",
       "  <thead>\n",
       "    <tr style=\"text-align: right;\">\n",
       "      <th></th>\n",
       "      <th>0</th>\n",
       "      <th>1</th>\n",
       "      <th>2</th>\n",
       "      <th>3</th>\n",
       "      <th>4</th>\n",
       "      <th>5</th>\n",
       "    </tr>\n",
       "  </thead>\n",
       "  <tbody>\n",
       "    <tr>\n",
       "      <th>0</th>\n",
       "      <td>1.097064</td>\n",
       "      <td>-2.073335</td>\n",
       "      <td>1.568466</td>\n",
       "      <td>3.283515</td>\n",
       "      <td>2.217515</td>\n",
       "      <td>2.255747</td>\n",
       "    </tr>\n",
       "    <tr>\n",
       "      <th>1</th>\n",
       "      <td>1.829821</td>\n",
       "      <td>-0.353632</td>\n",
       "      <td>-0.826962</td>\n",
       "      <td>-0.487072</td>\n",
       "      <td>0.001392</td>\n",
       "      <td>-0.868652</td>\n",
       "    </tr>\n",
       "    <tr>\n",
       "      <th>2</th>\n",
       "      <td>1.579888</td>\n",
       "      <td>0.456187</td>\n",
       "      <td>0.942210</td>\n",
       "      <td>1.052926</td>\n",
       "      <td>0.939685</td>\n",
       "      <td>-0.398008</td>\n",
       "    </tr>\n",
       "    <tr>\n",
       "      <th>3</th>\n",
       "      <td>-0.768909</td>\n",
       "      <td>0.253732</td>\n",
       "      <td>3.283553</td>\n",
       "      <td>3.402909</td>\n",
       "      <td>2.867383</td>\n",
       "      <td>4.910919</td>\n",
       "    </tr>\n",
       "    <tr>\n",
       "      <th>4</th>\n",
       "      <td>1.750297</td>\n",
       "      <td>-1.151816</td>\n",
       "      <td>0.280372</td>\n",
       "      <td>0.539340</td>\n",
       "      <td>-0.009560</td>\n",
       "      <td>-0.562450</td>\n",
       "    </tr>\n",
       "    <tr>\n",
       "      <th>...</th>\n",
       "      <td>...</td>\n",
       "      <td>...</td>\n",
       "      <td>...</td>\n",
       "      <td>...</td>\n",
       "      <td>...</td>\n",
       "      <td>...</td>\n",
       "    </tr>\n",
       "    <tr>\n",
       "      <th>564</th>\n",
       "      <td>2.110995</td>\n",
       "      <td>0.721473</td>\n",
       "      <td>1.041842</td>\n",
       "      <td>0.219060</td>\n",
       "      <td>-0.312589</td>\n",
       "      <td>-0.931027</td>\n",
       "    </tr>\n",
       "    <tr>\n",
       "      <th>565</th>\n",
       "      <td>1.704854</td>\n",
       "      <td>2.085134</td>\n",
       "      <td>0.102458</td>\n",
       "      <td>-0.017833</td>\n",
       "      <td>-0.217664</td>\n",
       "      <td>-1.058611</td>\n",
       "    </tr>\n",
       "    <tr>\n",
       "      <th>566</th>\n",
       "      <td>0.702284</td>\n",
       "      <td>2.045574</td>\n",
       "      <td>-0.840484</td>\n",
       "      <td>-0.038680</td>\n",
       "      <td>-0.809117</td>\n",
       "      <td>-0.895587</td>\n",
       "    </tr>\n",
       "    <tr>\n",
       "      <th>567</th>\n",
       "      <td>1.838341</td>\n",
       "      <td>2.336457</td>\n",
       "      <td>1.525767</td>\n",
       "      <td>3.272144</td>\n",
       "      <td>2.137194</td>\n",
       "      <td>1.043695</td>\n",
       "    </tr>\n",
       "    <tr>\n",
       "      <th>568</th>\n",
       "      <td>-1.808401</td>\n",
       "      <td>1.221792</td>\n",
       "      <td>-3.112085</td>\n",
       "      <td>-1.150752</td>\n",
       "      <td>-0.820070</td>\n",
       "      <td>-0.561032</td>\n",
       "    </tr>\n",
       "  </tbody>\n",
       "</table>\n",
       "<p>569 rows × 6 columns</p>\n",
       "</div>"
      ],
      "text/plain": [
       "            0         1         2         3         4         5\n",
       "0    1.097064 -2.073335  1.568466  3.283515  2.217515  2.255747\n",
       "1    1.829821 -0.353632 -0.826962 -0.487072  0.001392 -0.868652\n",
       "2    1.579888  0.456187  0.942210  1.052926  0.939685 -0.398008\n",
       "3   -0.768909  0.253732  3.283553  3.402909  2.867383  4.910919\n",
       "4    1.750297 -1.151816  0.280372  0.539340 -0.009560 -0.562450\n",
       "..        ...       ...       ...       ...       ...       ...\n",
       "564  2.110995  0.721473  1.041842  0.219060 -0.312589 -0.931027\n",
       "565  1.704854  2.085134  0.102458 -0.017833 -0.217664 -1.058611\n",
       "566  0.702284  2.045574 -0.840484 -0.038680 -0.809117 -0.895587\n",
       "567  1.838341  2.336457  1.525767  3.272144  2.137194  1.043695\n",
       "568 -1.808401  1.221792 -3.112085 -1.150752 -0.820070 -0.561032\n",
       "\n",
       "[569 rows x 6 columns]"
      ]
     },
     "execution_count": 11,
     "metadata": {},
     "output_type": "execute_result"
    }
   ],
   "source": [
    "pd.DataFrame(MEstandarizada) "
   ]
  },
  {
   "cell_type": "markdown",
   "metadata": {
    "id": "t0Ong23Yl8eY"
   },
   "source": [
    "#### **4) Matrices de distancia**"
   ]
  },
  {
   "cell_type": "markdown",
   "metadata": {
    "id": "I3uEnrDx--At"
   },
   "source": [
    "**a) Matriz de distancias: Euclidiana**"
   ]
  },
  {
   "cell_type": "code",
   "execution_count": 12,
   "metadata": {
    "id": "yolJSfM6yVWa"
   },
   "outputs": [],
   "source": [
    "DstEuclidiana = cdist(MEstandarizada, MEstandarizada, metric='euclidean')\n",
    "MEuclidiana = pd.DataFrame(DstEuclidiana)"
   ]
  },
  {
   "cell_type": "code",
   "execution_count": 13,
   "metadata": {
    "colab": {
     "base_uri": "https://localhost:8080/"
    },
    "executionInfo": {
     "elapsed": 180,
     "status": "ok",
     "timestamp": 1633307567508,
     "user": {
      "displayName": "Guillermo Molero-Castillo",
      "photoUrl": "https://lh3.googleusercontent.com/a/default-user=s64",
      "userId": "05385957137518665248"
     },
     "user_tz": 300
    },
    "id": "pnchjOx2_aBz",
    "outputId": "6f9fa18e-151c-4e30-c816-1be32d08d521"
   },
   "outputs": [
    {
     "name": "stdout",
     "output_type": "stream",
     "text": [
      "          0         1         2          3         4         5         6    \\\n",
      "0    0.000000  6.174365  4.546932   4.396037  4.834014  3.196418  5.690578   \n",
      "1    6.174365  0.000000  2.705871   8.987098  1.736955  5.153350  1.241247   \n",
      "2    4.546932  2.705871  0.000000   6.961528  2.060248  3.584659  1.860336   \n",
      "3    4.396037  8.987098  6.961528   0.000000  7.985967  4.429263  8.194171   \n",
      "4    4.834014  1.736955  2.060248   7.985967  0.000000  4.053390  1.570818   \n",
      "..        ...       ...       ...        ...       ...       ...       ...   \n",
      "564  5.921501  2.308341  1.705874   8.241077  2.132934  4.614548  1.631764   \n",
      "565  6.901117  2.670445  2.509312   8.743409  3.333390  5.443185  2.040145   \n",
      "566  7.283727  2.808277  3.312376   9.025491  3.696259  5.644511  2.208106   \n",
      "567  4.633922  5.926417  3.518554   5.452615  5.327597  4.694021  5.113101   \n",
      "568  8.833518  4.706411  6.040155  10.353611  5.772387  7.049799  4.591626   \n",
      "\n",
      "          7         8         9    ...       559       560        561  \\\n",
      "0    3.606113  3.547616  3.922413  ...  6.732787  6.654792   9.483959   \n",
      "1    4.606730  5.405096  6.042736  ...  3.636254  3.346419   4.812418   \n",
      "2    2.791344  3.247766  4.179641  ...  3.909610  3.102387   5.936802   \n",
      "3    4.591793  4.049308  3.636384  ...  8.055308  7.979164  10.844505   \n",
      "4    3.850141  4.558298  5.260896  ...  3.891984  3.651250   5.782399   \n",
      "..        ...       ...       ...  ...       ...       ...        ...   \n",
      "564  3.990816  4.569180  5.257569  ...  3.658129  2.748533   5.128905   \n",
      "565  4.463427  5.033139  5.508875  ...  3.326934  2.126776   4.158026   \n",
      "566  4.723688  5.401964  5.569748  ...  2.367222  1.515566   2.888028   \n",
      "567  3.634876  3.316872  3.490935  ...  6.034453  5.143314   8.123671   \n",
      "568  6.400717  7.155480  7.171478  ...  3.457091  4.061324   2.942179   \n",
      "\n",
      "          562       563       564       565       566       567        568  \n",
      "0    5.254735  4.095451  5.921501  6.901117  7.283727  4.633922   8.833518  \n",
      "1    5.012644  4.257982  2.308341  2.670445  2.808277  5.926417   4.706411  \n",
      "2    3.171141  2.004969  1.705874  2.509312  3.312376  3.518554   6.040155  \n",
      "3    5.701374  5.860041  8.241077  8.743409  9.025491  5.452615  10.353611  \n",
      "4    4.815613  3.640373  2.132934  3.333390  3.696259  5.327597   5.772387  \n",
      "..        ...       ...       ...       ...       ...       ...        ...  \n",
      "564  4.129182  3.186716  0.000000  1.728691  2.755918  4.705208   5.927724  \n",
      "565  3.692061  3.501911  1.728691  0.000000  1.507541  4.784955   5.031461  \n",
      "566  3.879386  4.211780  2.755918  1.507541  0.000000  5.511579   3.673021  \n",
      "567  2.440886  1.783132  4.705208  4.784955  5.511579  0.000000   8.181287  \n",
      "568  6.098768  6.959226  5.927724  5.031461  3.673021  8.181287   0.000000  \n",
      "\n",
      "[569 rows x 569 columns]\n"
     ]
    }
   ],
   "source": [
    "print(MEuclidiana)\n",
    "#MEuclidiana "
   ]
  },
  {
   "cell_type": "code",
   "execution_count": 14,
   "metadata": {
    "colab": {
     "base_uri": "https://localhost:8080/"
    },
    "executionInfo": {
     "elapsed": 159,
     "status": "ok",
     "timestamp": 1633307649469,
     "user": {
      "displayName": "Guillermo Molero-Castillo",
      "photoUrl": "https://lh3.googleusercontent.com/a/default-user=s64",
      "userId": "05385957137518665248"
     },
     "user_tz": 300
    },
    "id": "NX8EtpHSoL6k",
    "outputId": "c0fe34ad-02d3-47f7-c9d3-6aea53295d7b"
   },
   "outputs": [
    {
     "name": "stdout",
     "output_type": "stream",
     "text": [
      "       0      1      2       3      4      5      6      7      8      9    \\\n",
      "0    0.000  6.174  4.547   4.396  4.834  3.196  5.691  3.606  3.548  3.922   \n",
      "1    6.174  0.000  2.706   8.987  1.737  5.153  1.241  4.607  5.405  6.043   \n",
      "2    4.547  2.706  0.000   6.962  2.060  3.585  1.860  2.791  3.248  4.180   \n",
      "3    4.396  8.987  6.962   0.000  7.986  4.429  8.194  4.592  4.049  3.636   \n",
      "4    4.834  1.737  2.060   7.986  0.000  4.053  1.571  3.850  4.558  5.261   \n",
      "..     ...    ...    ...     ...    ...    ...    ...    ...    ...    ...   \n",
      "564  5.922  2.308  1.706   8.241  2.133  4.615  1.632  3.991  4.569  5.258   \n",
      "565  6.901  2.670  2.509   8.743  3.333  5.443  2.040  4.463  5.033  5.509   \n",
      "566  7.284  2.808  3.312   9.025  3.696  5.645  2.208  4.724  5.402  5.570   \n",
      "567  4.634  5.926  3.519   5.453  5.328  4.694  5.113  3.635  3.317  3.491   \n",
      "568  8.834  4.706  6.040  10.354  5.772  7.050  4.592  6.401  7.155  7.171   \n",
      "\n",
      "     ...    559    560     561    562    563    564    565    566    567  \\\n",
      "0    ...  6.733  6.655   9.484  5.255  4.095  5.922  6.901  7.284  4.634   \n",
      "1    ...  3.636  3.346   4.812  5.013  4.258  2.308  2.670  2.808  5.926   \n",
      "2    ...  3.910  3.102   5.937  3.171  2.005  1.706  2.509  3.312  3.519   \n",
      "3    ...  8.055  7.979  10.845  5.701  5.860  8.241  8.743  9.025  5.453   \n",
      "4    ...  3.892  3.651   5.782  4.816  3.640  2.133  3.333  3.696  5.328   \n",
      "..   ...    ...    ...     ...    ...    ...    ...    ...    ...    ...   \n",
      "564  ...  3.658  2.749   5.129  4.129  3.187  0.000  1.729  2.756  4.705   \n",
      "565  ...  3.327  2.127   4.158  3.692  3.502  1.729  0.000  1.508  4.785   \n",
      "566  ...  2.367  1.516   2.888  3.879  4.212  2.756  1.508  0.000  5.512   \n",
      "567  ...  6.034  5.143   8.124  2.441  1.783  4.705  4.785  5.512  0.000   \n",
      "568  ...  3.457  4.061   2.942  6.099  6.959  5.928  5.031  3.673  8.181   \n",
      "\n",
      "        568  \n",
      "0     8.834  \n",
      "1     4.706  \n",
      "2     6.040  \n",
      "3    10.354  \n",
      "4     5.772  \n",
      "..      ...  \n",
      "564   5.928  \n",
      "565   5.031  \n",
      "566   3.673  \n",
      "567   8.181  \n",
      "568   0.000  \n",
      "\n",
      "[569 rows x 569 columns]\n"
     ]
    }
   ],
   "source": [
    "print(MEuclidiana.round(3))"
   ]
  },
  {
   "cell_type": "markdown",
   "metadata": {
    "id": "1WPWHVnkrLWI"
   },
   "source": [
    "Matriz de distancias de una parte del total de objetos"
   ]
  },
  {
   "cell_type": "code",
   "execution_count": 15,
   "metadata": {
    "colab": {
     "base_uri": "https://localhost:8080/"
    },
    "executionInfo": {
     "elapsed": 211,
     "status": "ok",
     "timestamp": 1633307817926,
     "user": {
      "displayName": "Guillermo Molero-Castillo",
      "photoUrl": "https://lh3.googleusercontent.com/a/default-user=s64",
      "userId": "05385957137518665248"
     },
     "user_tz": 300
    },
    "id": "QJMTRTpoqoRC",
    "outputId": "7bfc9575-8b5d-4011-ed1d-73f215b58409"
   },
   "outputs": [
    {
     "name": "stdout",
     "output_type": "stream",
     "text": [
      "          0         1         2         3         4         5         6  \\\n",
      "0  0.000000  6.174365  4.546932  4.396037  4.834014  3.196418  5.690578   \n",
      "1  6.174365  0.000000  2.705871  8.987098  1.736955  5.153350  1.241247   \n",
      "2  4.546932  2.705871  0.000000  6.961528  2.060248  3.584659  1.860336   \n",
      "3  4.396037  8.987098  6.961528  0.000000  7.985967  4.429263  8.194171   \n",
      "4  4.834014  1.736955  2.060248  7.985967  0.000000  4.053390  1.570818   \n",
      "5  3.196418  5.153350  3.584659  4.429263  4.053390  0.000000  4.335135   \n",
      "6  5.690578  1.241247  1.860336  8.194171  1.570818  4.335135  0.000000   \n",
      "7  3.606113  4.606730  2.791344  4.591793  3.850141  1.475235  3.716812   \n",
      "8  3.547616  5.405096  3.247766  4.049308  4.558298  1.808325  4.464338   \n",
      "9  3.922413  6.042736  4.179641  3.636384  5.260896  2.603077  5.093631   \n",
      "\n",
      "          7         8         9  \n",
      "0  3.606113  3.547616  3.922413  \n",
      "1  4.606730  5.405096  6.042736  \n",
      "2  2.791344  3.247766  4.179641  \n",
      "3  4.591793  4.049308  3.636384  \n",
      "4  3.850141  4.558298  5.260896  \n",
      "5  1.475235  1.808325  2.603077  \n",
      "6  3.716812  4.464338  5.093631  \n",
      "7  0.000000  1.034780  2.082786  \n",
      "8  1.034780  0.000000  2.068226  \n",
      "9  2.082786  2.068226  0.000000  \n"
     ]
    }
   ],
   "source": [
    "DstEuclidiana = cdist(MEstandarizada[0:10], MEstandarizada[0:10], metric='euclidean')\n",
    "MEuclidiana = pd.DataFrame(DstEuclidiana)\n",
    "print(MEuclidiana) "
   ]
  },
  {
   "cell_type": "markdown",
   "metadata": {
    "id": "DQElWCmSrqsA"
   },
   "source": [
    "Distancia entre dos objetos"
   ]
  },
  {
   "cell_type": "code",
   "execution_count": 16,
   "metadata": {
    "colab": {
     "base_uri": "https://localhost:8080/"
    },
    "executionInfo": {
     "elapsed": 167,
     "status": "ok",
     "timestamp": 1633309626835,
     "user": {
      "displayName": "Guillermo Molero-Castillo",
      "photoUrl": "https://lh3.googleusercontent.com/a/default-user=s64",
      "userId": "05385957137518665248"
     },
     "user_tz": 300
    },
    "id": "He8ZKAtzoJm-",
    "outputId": "293d8591-2c61-4c41-f29b-85414b60a6b0"
   },
   "outputs": [
    {
     "data": {
      "text/plain": [
       "6.174364788678739"
      ]
     },
     "execution_count": 16,
     "metadata": {},
     "output_type": "execute_result"
    }
   ],
   "source": [
    "Objeto1 = MEstandarizada[0]\n",
    "Objeto2 = MEstandarizada[1]\n",
    "dstEuclidiana = distance.euclidean(Objeto1,Objeto2)\n",
    "dstEuclidiana "
   ]
  },
  {
   "cell_type": "markdown",
   "metadata": {
    "id": "ByhD6VXyBbf8"
   },
   "source": [
    "**b) Matriz de distancias: Chebyshev**"
   ]
  },
  {
   "cell_type": "code",
   "execution_count": 17,
   "metadata": {
    "id": "hZxcwmX2BkkO"
   },
   "outputs": [],
   "source": [
    "DstChebyshev = cdist(MEstandarizada, MEstandarizada, metric='chebyshev')\n",
    "MChebyshev = pd.DataFrame(DstChebyshev)"
   ]
  },
  {
   "cell_type": "code",
   "execution_count": 18,
   "metadata": {
    "colab": {
     "base_uri": "https://localhost:8080/"
    },
    "executionInfo": {
     "elapsed": 4,
     "status": "ok",
     "timestamp": 1633308036293,
     "user": {
      "displayName": "Guillermo Molero-Castillo",
      "photoUrl": "https://lh3.googleusercontent.com/a/default-user=s64",
      "userId": "05385957137518665248"
     },
     "user_tz": 300
    },
    "id": "ceDvx0h3BpgS",
    "outputId": "8707336c-5a44-489e-a2b0-24b814fb73f5"
   },
   "outputs": [
    {
     "name": "stdout",
     "output_type": "stream",
     "text": [
      "          0         1         2         3         4         5         6    \\\n",
      "0    0.000000  3.770586  2.653755  2.655172  2.818197  2.039179  3.195219   \n",
      "1    3.770586  0.000000  1.769173  5.779572  1.107334  3.064384  0.703826   \n",
      "2    2.653755  1.769173  0.000000  5.308927  1.608003  2.288013  1.065347   \n",
      "3    2.655172  5.779572  5.308927  0.000000  5.473369  3.020914  5.673251   \n",
      "4    2.818197  1.107334  1.608003  5.473369  0.000000  2.452455  1.312466   \n",
      "..        ...       ...       ...       ...       ...       ...       ...   \n",
      "564  3.186774  1.868805  1.252274  5.841946  1.873289  2.821032  1.164978   \n",
      "565  4.158469  2.438766  1.628947  5.969531  3.236950  2.948616  1.924485   \n",
      "566  4.118909  2.399206  1.782694  5.806506  3.197390  3.077905  1.884924   \n",
      "567  4.409792  3.759215  2.219218  3.867224  3.488274  3.171792  3.183849   \n",
      "568  4.680551  3.638222  4.054295  6.395638  3.558698  5.349506  2.988949   \n",
      "\n",
      "          7         8         9    ...       559       560       561  \\\n",
      "0    2.431785  2.662165  3.178774  ...  3.764123  3.902492  4.961632   \n",
      "1    2.529006  3.028801  3.651748  ...  2.573169  2.182789  2.745509   \n",
      "2    2.058361  1.970470  3.181104  ...  2.486292  1.942302  3.683802   \n",
      "3    3.250566  3.338458  2.127824  ...  4.499475  5.065099  6.013476   \n",
      "4    2.222803  2.134912  3.345546  ...  2.493645  2.980973  3.497582   \n",
      "..        ...       ...       ...  ...       ...       ...       ...   \n",
      "564  2.591380  2.503489  3.714123  ...  2.854343  2.132947  2.942387   \n",
      "565  2.718965  2.631073  3.841707  ...  2.448202  1.726806  2.536247   \n",
      "566  2.555940  3.042323  3.678683  ...  1.445632  1.048979  1.935000   \n",
      "567  2.132041  2.158508  2.311876  ...  3.683802  3.139811  4.881311   \n",
      "568  4.716134  5.313924  4.694784  ...  2.845194  3.320580  1.924047   \n",
      "\n",
      "          562       563       564       565       566       567       568  \n",
      "0    4.709984  3.423116  3.186774  4.158469  4.118909  4.409792  4.680551  \n",
      "1    2.990281  2.747206  1.868805  2.438766  2.399206  3.759215  3.638222  \n",
      "2    2.180462  1.247492  1.252274  1.628947  1.782694  2.219218  4.054295  \n",
      "3    3.674430  4.061436  5.841946  5.969531  5.806506  3.867224  6.395638  \n",
      "4    3.788465  2.501597  1.873289  3.236950  3.197390  3.488274  3.558698  \n",
      "..        ...       ...       ...       ...       ...       ...       ...  \n",
      "564  2.167517  2.041074  0.000000  1.363661  1.882326  3.053083  4.153927  \n",
      "565  2.295101  2.277968  1.363661  0.000000  1.002570  3.289977  3.513256  \n",
      "566  2.132077  2.298814  1.882326  1.002570  0.000000  3.310823  2.510685  \n",
      "567  1.527996  1.012009  3.053083  3.289977  3.310823  0.000000  4.637852  \n",
      "568  3.712701  4.075645  4.153927  3.513256  2.510685  4.637852  0.000000  \n",
      "\n",
      "[569 rows x 569 columns]\n"
     ]
    }
   ],
   "source": [
    "print(MChebyshev)"
   ]
  },
  {
   "cell_type": "markdown",
   "metadata": {
    "id": "R7e4rqH66yxZ"
   },
   "source": [
    "Matriz de distancias de una parte del total de objetos"
   ]
  },
  {
   "cell_type": "code",
   "execution_count": 19,
   "metadata": {
    "colab": {
     "base_uri": "https://localhost:8080/"
    },
    "executionInfo": {
     "elapsed": 169,
     "status": "ok",
     "timestamp": 1633308049613,
     "user": {
      "displayName": "Guillermo Molero-Castillo",
      "photoUrl": "https://lh3.googleusercontent.com/a/default-user=s64",
      "userId": "05385957137518665248"
     },
     "user_tz": 300
    },
    "id": "Qx5UQOcY6zl6",
    "outputId": "190f5410-1a99-4ecc-8475-84e0a4eb9c38"
   },
   "outputs": [
    {
     "name": "stdout",
     "output_type": "stream",
     "text": [
      "          0         1         2         3         4         5         6  \\\n",
      "0  0.000000  3.770586  2.653755  2.655172  2.818197  2.039179  3.195219   \n",
      "1  3.770586  0.000000  1.769173  5.779572  1.107334  3.064384  0.703826   \n",
      "2  2.653755  1.769173  0.000000  5.308927  1.608003  2.288013  1.065347   \n",
      "3  2.655172  5.779572  5.308927  0.000000  5.473369  3.020914  5.673251   \n",
      "4  2.818197  1.107334  1.608003  5.473369  0.000000  2.452455  1.312466   \n",
      "5  2.039179  3.064384  2.288013  3.020914  2.452455  0.000000  2.652337   \n",
      "6  3.195219  0.703826  1.065347  5.673251  1.312466  2.652337  0.000000   \n",
      "7  2.431785  2.529006  2.058361  3.250566  2.222803  1.193785  2.422685   \n",
      "8  2.662165  3.028801  1.970470  3.338458  2.134912  1.424165  2.334794   \n",
      "9  3.178774  3.651748  3.181104  2.127824  3.345546  1.940774  3.545428   \n",
      "\n",
      "          7         8         9  \n",
      "0  2.431785  2.662165  3.178774  \n",
      "1  2.529006  3.028801  3.651748  \n",
      "2  2.058361  1.970470  3.181104  \n",
      "3  3.250566  3.338458  2.127824  \n",
      "4  2.222803  2.134912  3.345546  \n",
      "5  1.193785  1.424165  1.940774  \n",
      "6  2.422685  2.334794  3.545428  \n",
      "7  0.000000  0.597790  1.423256  \n",
      "8  0.597790  0.000000  1.210634  \n",
      "9  1.423256  1.210634  0.000000  \n"
     ]
    }
   ],
   "source": [
    "DstChebyshev = cdist(MEstandarizada[0:10], MEstandarizada[0:10], metric='chebyshev')\n",
    "MChebyshev = pd.DataFrame(DstChebyshev)\n",
    "print(MChebyshev)"
   ]
  },
  {
   "cell_type": "markdown",
   "metadata": {
    "id": "LL8UlDBI6ri1"
   },
   "source": [
    "Distancia entre dos objetos"
   ]
  },
  {
   "cell_type": "code",
   "execution_count": 20,
   "metadata": {
    "colab": {
     "base_uri": "https://localhost:8080/"
    },
    "executionInfo": {
     "elapsed": 140,
     "status": "ok",
     "timestamp": 1633308091605,
     "user": {
      "displayName": "Guillermo Molero-Castillo",
      "photoUrl": "https://lh3.googleusercontent.com/a/default-user=s64",
      "userId": "05385957137518665248"
     },
     "user_tz": 300
    },
    "id": "1FWopV0a6sPc",
    "outputId": "0b6e4c07-963a-4d99-b64c-49135d205e35"
   },
   "outputs": [
    {
     "data": {
      "text/plain": [
       "3.7705863435627216"
      ]
     },
     "execution_count": 20,
     "metadata": {},
     "output_type": "execute_result"
    }
   ],
   "source": [
    "Objeto1 = MEstandarizada[0]\n",
    "Objeto2 = MEstandarizada[1]\n",
    "dstChebyshev = distance.chebyshev(Objeto1,Objeto2)\n",
    "dstChebyshev"
   ]
  },
  {
   "cell_type": "markdown",
   "metadata": {
    "id": "PNUVTubfChSE"
   },
   "source": [
    "**c) Matriz de distancias: Manhattan**"
   ]
  },
  {
   "cell_type": "code",
   "execution_count": 21,
   "metadata": {
    "id": "mkTj7uZPCicE"
   },
   "outputs": [],
   "source": [
    "DstManhattan = cdist(MEstandarizada, MEstandarizada, metric='cityblock')\n",
    "MManhattan = pd.DataFrame(DstManhattan)"
   ]
  },
  {
   "cell_type": "code",
   "execution_count": 22,
   "metadata": {
    "colab": {
     "base_uri": "https://localhost:8080/"
    },
    "executionInfo": {
     "elapsed": 201,
     "status": "ok",
     "timestamp": 1633308121780,
     "user": {
      "displayName": "Guillermo Molero-Castillo",
      "photoUrl": "https://lh3.googleusercontent.com/a/default-user=s64",
      "userId": "05385957137518665248"
     },
     "user_tz": 300
    },
    "id": "kZZZVhNhCizt",
    "outputId": "8cba6204-28ce-41f2-c3fd-7b96bc164afe"
   },
   "outputs": [
    {
     "name": "stdout",
     "output_type": "stream",
     "text": [
      "           0          1          2          3          4          5    \\\n",
      "0     0.000000  13.958996   9.800776   9.332562  10.652292   7.097428   \n",
      "1    13.958996   0.000000   5.777859  19.852153   3.328610  11.346356   \n",
      "2     9.800776   5.777859   0.000000  14.479204   4.067523   7.188136   \n",
      "3     9.332562  19.852153  14.479204   0.000000  18.141817   9.469203   \n",
      "4    10.652292   3.328610   4.067523  18.141817   0.000000   8.672614   \n",
      "..         ...        ...        ...        ...        ...        ...   \n",
      "564  13.116694   4.307571   3.515182  17.795122   3.987343  10.504054   \n",
      "565  15.283153   4.371407   5.482377  19.961581   4.721745  12.670513   \n",
      "566  16.422799   4.826100   7.587671  20.311667   7.076972  13.020599   \n",
      "567   6.497512  12.858705   7.580711  11.175940  11.307417  10.204073   \n",
      "568  21.169775   9.291532  12.334647  22.116256  11.826783  15.410257   \n",
      "\n",
      "           6          7          8          9    ...        559        560  \\\n",
      "0    12.494569   7.235915   7.247473   7.431327  ...  15.763355  15.138532   \n",
      "1     2.624425  10.649573  12.697654  13.670172  ...   7.839412   7.432093   \n",
      "2     4.102829   5.067188   6.919795   8.177087  ...   8.547131   6.791060   \n",
      "3    17.359162   9.412016   7.824695   7.885395  ...  16.760959  17.578928   \n",
      "4     3.001054   8.939237  10.987318  11.959836  ...   8.365316   6.609245   \n",
      "..         ...        ...        ...        ...  ...        ...        ...   \n",
      "564   3.213613   8.383106   9.970428  10.677660  ...   7.359464   5.603393   \n",
      "565   3.239773  10.549565  12.136886  12.076186  ...   6.646480   3.952558   \n",
      "566   4.075918  10.899651  12.486973  12.426273  ...   5.033270   3.119739   \n",
      "567  11.683539   7.495686   6.870702   7.387908  ...  13.261630  11.138176   \n",
      "568   9.225493  14.005025  15.189046  14.821611  ...   6.859495   7.611066   \n",
      "\n",
      "           561        562        563        564        565        566  \\\n",
      "0    22.379005   9.851992   8.275581  13.116694  15.283153  16.422799   \n",
      "1     9.885521  11.661006   9.289051   4.307571   4.371407   4.826100   \n",
      "2    13.543877   6.566335   4.011057   3.515182   5.482377   7.587671   \n",
      "3    23.325486  12.956981  12.954009  17.795122  19.961581  20.311667   \n",
      "4    13.033178   9.950670   7.737763   3.987343   4.721745   7.076972   \n",
      "..         ...        ...        ...        ...        ...        ...   \n",
      "564  11.290171   9.550945   6.254293   0.000000   3.168588   5.404846   \n",
      "565   8.311433   8.107629   7.456314   3.168588   0.000000   2.760396   \n",
      "566   5.956206   8.536836   9.811541   5.404846   2.760396   0.000000   \n",
      "567  17.364047   5.222623   3.751423   9.849152   9.555261  11.989608   \n",
      "568   6.274601  14.147496  14.814494  10.820931   9.824045   7.063648   \n",
      "\n",
      "           567        568  \n",
      "0     6.497512  21.169775  \n",
      "1    12.858705   9.291532  \n",
      "2     7.580711  12.334647  \n",
      "3    11.175940  22.116256  \n",
      "4    11.307417  11.826783  \n",
      "..         ...        ...  \n",
      "564   9.849152  10.820931  \n",
      "565   9.555261   9.824045  \n",
      "566  11.989608   7.063648  \n",
      "567   0.000000  18.384147  \n",
      "568  18.384147   0.000000  \n",
      "\n",
      "[569 rows x 569 columns]\n"
     ]
    }
   ],
   "source": [
    "print(MManhattan)"
   ]
  },
  {
   "cell_type": "markdown",
   "metadata": {
    "id": "czqO7FST8Qvb"
   },
   "source": [
    "Matriz de distancias de una parte del total de objetos"
   ]
  },
  {
   "cell_type": "code",
   "execution_count": 23,
   "metadata": {
    "colab": {
     "base_uri": "https://localhost:8080/"
    },
    "executionInfo": {
     "elapsed": 147,
     "status": "ok",
     "timestamp": 1633308165940,
     "user": {
      "displayName": "Guillermo Molero-Castillo",
      "photoUrl": "https://lh3.googleusercontent.com/a/default-user=s64",
      "userId": "05385957137518665248"
     },
     "user_tz": 300
    },
    "id": "93LDlDQ48Rph",
    "outputId": "977b7fc5-a2bb-4979-dd6c-c5f576e9e524"
   },
   "outputs": [
    {
     "name": "stdout",
     "output_type": "stream",
     "text": [
      "           0          1          2          3          4          5  \\\n",
      "0   0.000000  13.958996   9.800776   9.332562  10.652292   7.097428   \n",
      "1  13.958996   0.000000   5.777859  19.852153   3.328610  11.346356   \n",
      "2   9.800776   5.777859   0.000000  14.479204   4.067523   7.188136   \n",
      "3   9.332562  19.852153  14.479204   0.000000  18.141817   9.469203   \n",
      "4  10.652292   3.328610   4.067523  18.141817   0.000000   8.672614   \n",
      "5   7.097428  11.346356   7.188136   9.469203   8.672614   0.000000   \n",
      "6  12.494569   2.624425   4.102829  17.359162   3.001054   9.881929   \n",
      "7   7.235915  10.649573   5.067188   9.412016   8.939237   2.916854   \n",
      "8   7.247473  12.697654   6.919795   7.824695  10.987318   3.333371   \n",
      "9   7.431327  13.670172   8.177087   7.885395  11.959836   5.018553   \n",
      "\n",
      "           6          7          8          9  \n",
      "0  12.494569   7.235915   7.247473   7.431327  \n",
      "1   2.624425  10.649573  12.697654  13.670172  \n",
      "2   4.102829   5.067188   6.919795   8.177087  \n",
      "3  17.359162   9.412016   7.824695   7.885395  \n",
      "4   3.001054   8.939237  10.987318  11.959836  \n",
      "5   9.881929   2.916854   3.333371   5.018553  \n",
      "6   0.000000   8.156582  10.204663  11.177181  \n",
      "7   8.156582   0.000000   2.223864   4.275411  \n",
      "8  10.204663   2.223864   0.000000   4.547400  \n",
      "9  11.177181   4.275411   4.547400   0.000000  \n"
     ]
    }
   ],
   "source": [
    "DstManhattan = cdist(MEstandarizada[0:10], MEstandarizada[0:10], metric='cityblock')\n",
    "MManhattan = pd.DataFrame(DstManhattan)\n",
    "print(MManhattan)"
   ]
  },
  {
   "cell_type": "markdown",
   "metadata": {
    "id": "bxzGN1Hr8wbV"
   },
   "source": [
    "Distancia entre dos objetos"
   ]
  },
  {
   "cell_type": "code",
   "execution_count": 24,
   "metadata": {
    "colab": {
     "base_uri": "https://localhost:8080/"
    },
    "executionInfo": {
     "elapsed": 220,
     "status": "ok",
     "timestamp": 1633309651624,
     "user": {
      "displayName": "Guillermo Molero-Castillo",
      "photoUrl": "https://lh3.googleusercontent.com/a/default-user=s64",
      "userId": "05385957137518665248"
     },
     "user_tz": 300
    },
    "id": "wlaZ_RQH8ySL",
    "outputId": "3e8eb409-1198-4ea7-ea16-6bd982a5a0df"
   },
   "outputs": [
    {
     "data": {
      "text/plain": [
       "13.958996337612154"
      ]
     },
     "execution_count": 24,
     "metadata": {},
     "output_type": "execute_result"
    }
   ],
   "source": [
    "Objeto1 = MEstandarizada[0]\n",
    "Objeto2 = MEstandarizada[1]\n",
    "dstManhattan = distance.cityblock(Objeto1,Objeto2)\n",
    "dstManhattan"
   ]
  },
  {
   "cell_type": "markdown",
   "metadata": {
    "id": "cdJzgxqoEDWw"
   },
   "source": [
    "**d) Matriz de distancias: Minkowski**"
   ]
  },
  {
   "cell_type": "code",
   "execution_count": 25,
   "metadata": {
    "id": "lk6Obnn7EDwI"
   },
   "outputs": [],
   "source": [
    "DstMinkowski = cdist(MEstandarizada, MEstandarizada, metric='minkowski', p=1.5)\n",
    "MMinkowski = pd.DataFrame(DstMinkowski)"
   ]
  },
  {
   "cell_type": "code",
   "execution_count": 26,
   "metadata": {
    "colab": {
     "base_uri": "https://localhost:8080/"
    },
    "executionInfo": {
     "elapsed": 195,
     "status": "ok",
     "timestamp": 1633308219874,
     "user": {
      "displayName": "Guillermo Molero-Castillo",
      "photoUrl": "https://lh3.googleusercontent.com/a/default-user=s64",
      "userId": "05385957137518665248"
     },
     "user_tz": 300
    },
    "id": "chKy4TXYED-b",
    "outputId": "f6f6a1d2-9511-416f-dd0b-f63551a9b589"
   },
   "outputs": [
    {
     "name": "stdout",
     "output_type": "stream",
     "text": [
      "           0          1         2          3          4         5    \\\n",
      "0     0.000000   8.024946  5.795809   5.595649   6.209926  4.121053   \n",
      "1     8.024946   0.000000  3.429022  11.581777   2.131193  6.628859   \n",
      "2     5.795809   3.429022  0.000000   8.727855   2.522958  4.470394   \n",
      "3     5.595649  11.581777  8.727855   0.000000  10.371214  5.621238   \n",
      "4     6.209926   2.131193  2.522958  10.371214   0.000000  5.151873   \n",
      "..         ...        ...       ...        ...        ...       ...   \n",
      "564   7.648649   2.767302  2.129300  10.502352   2.526924  6.001116   \n",
      "565   8.902267   3.022785  3.221726  11.376809   3.578288  7.161706   \n",
      "566   9.495759   3.283349  4.330037  11.692915   4.429834  7.396528   \n",
      "567   5.025433   7.630066  4.486478   6.823026   6.773720  5.984783   \n",
      "568  11.777659   5.760876  7.549146  13.168208   7.256028  8.971317   \n",
      "\n",
      "           6         7         8         9    ...        559        560  \\\n",
      "0     7.358437  4.476474  4.406202  4.741346  ...   8.878612   8.669870   \n",
      "1     1.577910  6.046537  7.146439  7.854955  ...   4.621091   4.302584   \n",
      "2     2.390133  3.330113  4.128175  5.113147  ...   4.993408   3.980180   \n",
      "3    10.409542  5.745216  4.894821  4.646623  ...  10.217065  10.262737   \n",
      "4     1.893739  5.063139  6.098181  6.847261  ...   4.942167   4.330824   \n",
      "..         ...       ...       ...       ...  ...        ...        ...   \n",
      "564   2.000347  5.027450  5.880819  6.535363  ...   4.515124   3.416567   \n",
      "565   2.271265  5.909142  6.732201  7.041485  ...   4.126113   2.545638   \n",
      "566   2.624958  6.193619  7.085079  7.182105  ...   3.020478   1.891361   \n",
      "567   6.675304  4.569268  4.163158  4.433880  ...   7.747526   6.555511   \n",
      "568   5.677925  8.165775  9.023813  9.018765  ...   4.229034   4.869101   \n",
      "\n",
      "           561       562       563        564        565        566  \\\n",
      "0    12.561514  6.213412  5.019122   7.648649   8.902267   9.495759   \n",
      "1     6.027710  6.588891  5.477823   2.767302   3.022785   3.283349   \n",
      "2     7.748666  3.976258  2.491158   2.129300   3.221726   4.330037   \n",
      "3    13.920510  7.412108  7.517519  10.502352  11.376809  11.692915   \n",
      "4     7.514326  5.994804  4.615272   2.526924   3.578288   4.429834   \n",
      "..         ...       ...       ...        ...        ...        ...   \n",
      "564   6.623433  5.432309  3.935898   0.000000   2.057764   3.398642   \n",
      "565   5.180403  4.737759  4.439718   2.057764   0.000000   1.817901   \n",
      "566   3.616392  4.993686  5.548265   3.398642   1.817901   0.000000   \n",
      "567  10.389766  3.105893  2.258543   5.939542   5.946862   7.067764   \n",
      "568   3.737129  8.003010  8.869176   7.062610   6.129451   4.490903   \n",
      "\n",
      "           567        568  \n",
      "0     5.025433  11.777659  \n",
      "1     7.630066   5.760876  \n",
      "2     4.486478   7.549146  \n",
      "3     6.823026  13.168208  \n",
      "4     6.773720   7.256028  \n",
      "..         ...        ...  \n",
      "564   5.939542   7.062610  \n",
      "565   5.946862   6.129451  \n",
      "566   7.067764   4.490903  \n",
      "567   0.000000  10.607708  \n",
      "568  10.607708   0.000000  \n",
      "\n",
      "[569 rows x 569 columns]\n"
     ]
    }
   ],
   "source": [
    "print(MMinkowski)"
   ]
  },
  {
   "cell_type": "markdown",
   "metadata": {
    "id": "erqbHrWAADy2"
   },
   "source": [
    "Matriz de distancias de una parte del total de objetos"
   ]
  },
  {
   "cell_type": "code",
   "execution_count": 27,
   "metadata": {
    "colab": {
     "base_uri": "https://localhost:8080/"
    },
    "executionInfo": {
     "elapsed": 135,
     "status": "ok",
     "timestamp": 1633308242999,
     "user": {
      "displayName": "Guillermo Molero-Castillo",
      "photoUrl": "https://lh3.googleusercontent.com/a/default-user=s64",
      "userId": "05385957137518665248"
     },
     "user_tz": 300
    },
    "id": "su4IXbeWADzA",
    "outputId": "5ac89044-2544-42ae-8337-f006714245a1"
   },
   "outputs": [
    {
     "name": "stdout",
     "output_type": "stream",
     "text": [
      "          0          1         2          3          4         5          6  \\\n",
      "0  0.000000   8.024946  5.795809   5.595649   6.209926  4.121053   7.358437   \n",
      "1  8.024946   0.000000  3.429022  11.581777   2.131193  6.628859   1.577910   \n",
      "2  5.795809   3.429022  0.000000   8.727855   2.522958  4.470394   2.390133   \n",
      "3  5.595649  11.581777  8.727855   0.000000  10.371214  5.621238  10.409542   \n",
      "4  6.209926   2.131193  2.522958  10.371214   0.000000  5.151873   1.893739   \n",
      "5  4.121053   6.628859  4.470394   5.621238   5.151873  0.000000   5.642721   \n",
      "6  7.358437   1.577910  2.390133  10.409542   1.893739  5.642721   0.000000   \n",
      "7  4.476474   6.046537  3.330113   5.745216   5.063139  1.801129   4.779731   \n",
      "8  4.406202   7.146439  4.128175   4.894821   6.098181  2.162204   5.842336   \n",
      "9  4.741346   7.854955  5.113147   4.646623   6.847261  3.186243   6.513767   \n",
      "\n",
      "          7         8         9  \n",
      "0  4.476474  4.406202  4.741346  \n",
      "1  6.046537  7.146439  7.854955  \n",
      "2  3.330113  4.128175  5.113147  \n",
      "3  5.745216  4.894821  4.646623  \n",
      "4  5.063139  6.098181  6.847261  \n",
      "5  1.801129  2.162204  3.186243  \n",
      "6  4.779731  5.842336  6.513767  \n",
      "7  0.000000  1.317408  2.611276  \n",
      "8  1.317408  0.000000  2.659860  \n",
      "9  2.611276  2.659860  0.000000  \n"
     ]
    }
   ],
   "source": [
    "DstMinkowski = cdist(MEstandarizada[0:10], MEstandarizada[0:10], metric='minkowski', p=1.5)\n",
    "MMinkowski = pd.DataFrame(DstMinkowski)\n",
    "print(MMinkowski)"
   ]
  },
  {
   "cell_type": "markdown",
   "metadata": {
    "id": "k5oWahVIA9vd"
   },
   "source": [
    "Distancia entre dos objetos"
   ]
  },
  {
   "cell_type": "code",
   "execution_count": 28,
   "metadata": {
    "colab": {
     "base_uri": "https://localhost:8080/"
    },
    "executionInfo": {
     "elapsed": 227,
     "status": "ok",
     "timestamp": 1633309895978,
     "user": {
      "displayName": "Guillermo Molero-Castillo",
      "photoUrl": "https://lh3.googleusercontent.com/a/default-user=s64",
      "userId": "05385957137518665248"
     },
     "user_tz": 300
    },
    "id": "x3KvnK-sA9_g",
    "outputId": "188d0c55-7720-41b3-c215-5805bb04f50e"
   },
   "outputs": [
    {
     "data": {
      "text/plain": [
       "8.02494572212642"
      ]
     },
     "execution_count": 28,
     "metadata": {},
     "output_type": "execute_result"
    }
   ],
   "source": [
    "Objeto1 = MEstandarizada[0]\n",
    "Objeto2 = MEstandarizada[1]\n",
    "dstMinkowski = distance.minkowski(Objeto1,Objeto2, p=1.5)\n",
    "dstMinkowski"
   ]
  }
 ],
 "metadata": {
  "colab": {
   "provenance": []
  },
  "kernelspec": {
   "display_name": "Python 3 (ipykernel)",
   "language": "python",
   "name": "python3"
  },
  "language_info": {
   "codemirror_mode": {
    "name": "ipython",
    "version": 3
   },
   "file_extension": ".py",
   "mimetype": "text/x-python",
   "name": "python",
   "nbconvert_exporter": "python",
   "pygments_lexer": "ipython3",
   "version": "3.9.12"
  }
 },
 "nbformat": 4,
 "nbformat_minor": 1
}
